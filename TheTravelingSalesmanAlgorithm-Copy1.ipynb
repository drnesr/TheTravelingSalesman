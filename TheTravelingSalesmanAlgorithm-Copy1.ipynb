{
 "cells": [
  {
   "cell_type": "code",
   "execution_count": 1,
   "metadata": {},
   "outputs": [],
   "source": [
    "import numpy as np\n",
    "import pandas as pd"
   ]
  },
  {
   "cell_type": "code",
   "execution_count": 2,
   "metadata": {},
   "outputs": [],
   "source": [
    "# creating the test array\n",
    "r=[[13, 16], [25, 36], [50, 45], [12, 34], [47, 38], [32, 3], \n",
    "   [2, 29], [40, 26], [7, 17], [17, 17], [27, 46], [23, 5] ]"
   ]
  },
  {
   "cell_type": "code",
   "execution_count": 3,
   "metadata": {},
   "outputs": [],
   "source": [
    "# defining distance function\n",
    "def distance(x1, y1, x2, y2):\n",
    "    return np.sqrt((x1-x2)**2+(y1-y2)**2)"
   ]
  },
  {
   "cell_type": "code",
   "execution_count": 4,
   "metadata": {
    "scrolled": true
   },
   "outputs": [],
   "source": [
    "# # Creating the distance array\n",
    "# dist=[[0 for i in range(len(r))]for j in range (len(r))]\n",
    "# for i in range(len(r)):\n",
    "#     for j in range(len(r)):\n",
    "#         dist[i][j]=distance(r[i][0], r[i][1], r[j][0], r[j][1])\n",
    "\n",
    "# # dist\n",
    "# ndist=np.array(dist)\n",
    "# ndist"
   ]
  },
  {
   "cell_type": "code",
   "execution_count": 5,
   "metadata": {
    "collapsed": true
   },
   "outputs": [
    {
     "data": {
      "text/plain": [
       "array([[  0.        ,   1.        ,   2.        ,   3.        ,\n",
       "          4.        ,   5.        ,   6.        ,   7.        ,\n",
       "          8.        ,   9.        ,  10.        ,  11.        ,  12.        ],\n",
       "       [  1.        ,   0.        ,  23.32380758,  47.01063709,\n",
       "         18.02775638,  40.49691346,  23.02172887,  17.02938637,\n",
       "         28.7923601 ,   6.08276253,   4.12310563,  33.10589071,\n",
       "         14.86606875],\n",
       "       [  2.        ,  23.32380758,   0.        ,  26.57066051,\n",
       "         13.15294644,  22.09072203,  33.73425559,  24.04163056,\n",
       "         18.02775638,  26.17250466,  20.61552813,  10.19803903,\n",
       "         31.06444913],\n",
       "       [  3.        ,  47.01063709,  26.57066051,   0.        ,\n",
       "         39.56008089,   7.61577311,  45.69463864,  50.59644256,\n",
       "         21.47091055,  51.31276644,  43.27817002,  23.02172887,\n",
       "         48.25971405],\n",
       "       [  4.        ,  18.02775638,  13.15294644,  39.56008089,\n",
       "          0.        ,  35.22782991,  36.89173349,  11.18033989,\n",
       "         29.12043956,  17.72004515,  17.72004515,  19.20937271,\n",
       "         31.01612484],\n",
       "       [  5.        ,  40.49691346,  22.09072203,   7.61577311,\n",
       "         35.22782991,   0.        ,  38.07886553,  45.89117562,\n",
       "         13.89244399,  45.17742799,  36.61966685,  21.54065923,\n",
       "         40.80441153],\n",
       "       [  6.        ,  23.02172887,  33.73425559,  45.69463864,\n",
       "         36.89173349,  38.07886553,   0.        ,  39.69886648,\n",
       "         24.35159132,  28.65309756,  20.51828453,  43.28972164,\n",
       "          9.21954446],\n",
       "       [  7.        ,  17.02938637,  24.04163056,  50.59644256,\n",
       "         11.18033989,  45.89117562,  39.69886648,   0.        ,\n",
       "         38.11823711,  13.        ,  19.20937271,  30.23243292,\n",
       "         31.89043744],\n",
       "       [  8.        ,  28.7923601 ,  18.02775638,  21.47091055,\n",
       "         29.12043956,  13.89244399,  24.35159132,  38.11823711,\n",
       "          0.        ,  34.20526275,  24.69817807,  23.85372088,\n",
       "         27.01851217],\n",
       "       [  9.        ,   6.08276253,  26.17250466,  51.31276644,\n",
       "         17.72004515,  45.17742799,  28.65309756,  13.        ,\n",
       "         34.20526275,   0.        ,  10.        ,  35.22782991,  20.        ],\n",
       "       [ 10.        ,   4.12310563,  20.61552813,  43.27817002,\n",
       "         17.72004515,  36.61966685,  20.51828453,  19.20937271,\n",
       "         24.69817807,  10.        ,   0.        ,  30.6757233 ,\n",
       "         13.41640786],\n",
       "       [ 11.        ,  33.10589071,  10.19803903,  23.02172887,\n",
       "         19.20937271,  21.54065923,  43.28972164,  30.23243292,\n",
       "         23.85372088,  35.22782991,  30.6757233 ,   0.        ,\n",
       "         41.19465985],\n",
       "       [ 12.        ,  14.86606875,  31.06444913,  48.25971405,\n",
       "         31.01612484,  40.80441153,   9.21954446,  31.89043744,\n",
       "         27.01851217,  20.        ,  13.41640786,  41.19465985,   0.        ]])"
      ]
     },
     "execution_count": 5,
     "metadata": {},
     "output_type": "execute_result"
    }
   ],
   "source": [
    "# Creating the distance array\n",
    "# with row 0 and col 0 contains the point's number\n",
    "dist=[[i for i in range(len(r)+1)]for j in range (len(r)+1)]\n",
    "for i in range(len(r)):\n",
    "    dist[i+1][0]=i+1\n",
    "    for j in range(len(r)):\n",
    "#         dist[i+1][j+1]=7.5\n",
    "        dist[i+1][j+1]=distance(r[i][0], r[i][1], r[j][0], r[j][1])\n",
    "\n",
    "# dist\n",
    "ndist=np.array(dist)\n",
    "ndist"
   ]
  },
  {
   "cell_type": "code",
   "execution_count": 6,
   "metadata": {},
   "outputs": [],
   "source": [
    "# Results array\n",
    "res_loc = []\n",
    "res_val = []"
   ]
  },
  {
   "cell_type": "code",
   "execution_count": 7,
   "metadata": {},
   "outputs": [],
   "source": [
    "# a copy of ndist\n",
    "ndc = ndist.copy()"
   ]
  },
  {
   "cell_type": "code",
   "execution_count": 8,
   "metadata": {},
   "outputs": [
    {
     "data": {
      "text/plain": [
       "([1.0], [], array([  0.        ,  23.32380758,  47.01063709,  18.02775638,\n",
       "         40.49691346,  23.02172887,  17.02938637,  28.7923601 ,\n",
       "          6.08276253,   4.12310563,  33.10589071,  14.86606875]))"
      ]
     },
     "execution_count": 8,
     "metadata": {},
     "output_type": "execute_result"
    }
   ],
   "source": [
    "# current row (the starting row)\n",
    "rw = 1\n",
    "# current array\n",
    "# the slice at the end to remove the point column\n",
    "curr = ndc[rw][1:]\n",
    "\n",
    "# adding the starting point\n",
    "res_loc.append(ndc[rw][0])\n",
    "res_loc, res_val, curr"
   ]
  },
  {
   "cell_type": "code",
   "execution_count": 9,
   "metadata": {},
   "outputs": [
    {
     "data": {
      "text/plain": [
       "(9, 4.123105625617661, 10)"
      ]
     },
     "execution_count": 9,
     "metadata": {},
     "output_type": "execute_result"
    }
   ],
   "source": [
    "# find the nonzero minimum of the current array\n",
    "minval = np.where( curr == np.min(curr[np.nonzero(curr)]) )\n",
    "lcn, vlu  = minval[0][0], curr[minval].tolist()[0]\n",
    "point_name = np.where( ndist[rw] == vlu)[0][0]\n",
    "# appending the results of this stage to the results lists\n",
    "res_loc.append(point_name)\n",
    "res_val.append(vlu)\n",
    "lcn, vlu, point_name"
   ]
  },
  {
   "cell_type": "code",
   "execution_count": 10,
   "metadata": {},
   "outputs": [
    {
     "data": {
      "text/plain": [
       "(12, 12)"
      ]
     },
     "execution_count": 10,
     "metadata": {},
     "output_type": "execute_result"
    }
   ],
   "source": [
    "# deleting the initial row after finding the next column\n",
    "ndc = np.delete(ndc, rw, axis=0)\n",
    "ndc = np.delete(ndc, rw, axis=1)\n",
    "ndc\n",
    "ndc.shape"
   ]
  },
  {
   "cell_type": "code",
   "execution_count": 11,
   "metadata": {},
   "outputs": [
    {
     "data": {
      "text/plain": [
       "array([[  0.        ,   2.        ,   3.        ,   4.        ,\n",
       "          5.        ,   6.        ,   7.        ,   8.        ,\n",
       "          9.        ,  10.        ,  11.        ,  12.        ],\n",
       "       [  2.        ,   0.        ,  26.57066051,  13.15294644,\n",
       "         22.09072203,  33.73425559,  24.04163056,  18.02775638,\n",
       "         26.17250466,  20.61552813,  10.19803903,  31.06444913],\n",
       "       [  3.        ,  26.57066051,   0.        ,  39.56008089,\n",
       "          7.61577311,  45.69463864,  50.59644256,  21.47091055,\n",
       "         51.31276644,  43.27817002,  23.02172887,  48.25971405],\n",
       "       [  4.        ,  13.15294644,  39.56008089,   0.        ,\n",
       "         35.22782991,  36.89173349,  11.18033989,  29.12043956,\n",
       "         17.72004515,  17.72004515,  19.20937271,  31.01612484],\n",
       "       [  5.        ,  22.09072203,   7.61577311,  35.22782991,\n",
       "          0.        ,  38.07886553,  45.89117562,  13.89244399,\n",
       "         45.17742799,  36.61966685,  21.54065923,  40.80441153],\n",
       "       [  6.        ,  33.73425559,  45.69463864,  36.89173349,\n",
       "         38.07886553,   0.        ,  39.69886648,  24.35159132,\n",
       "         28.65309756,  20.51828453,  43.28972164,   9.21954446],\n",
       "       [  7.        ,  24.04163056,  50.59644256,  11.18033989,\n",
       "         45.89117562,  39.69886648,   0.        ,  38.11823711,\n",
       "         13.        ,  19.20937271,  30.23243292,  31.89043744],\n",
       "       [  8.        ,  18.02775638,  21.47091055,  29.12043956,\n",
       "         13.89244399,  24.35159132,  38.11823711,   0.        ,\n",
       "         34.20526275,  24.69817807,  23.85372088,  27.01851217],\n",
       "       [  9.        ,  26.17250466,  51.31276644,  17.72004515,\n",
       "         45.17742799,  28.65309756,  13.        ,  34.20526275,\n",
       "          0.        ,  10.        ,  35.22782991,  20.        ],\n",
       "       [ 10.        ,  20.61552813,  43.27817002,  17.72004515,\n",
       "         36.61966685,  20.51828453,  19.20937271,  24.69817807,\n",
       "         10.        ,   0.        ,  30.6757233 ,  13.41640786],\n",
       "       [ 11.        ,  10.19803903,  23.02172887,  19.20937271,\n",
       "         21.54065923,  43.28972164,  30.23243292,  23.85372088,\n",
       "         35.22782991,  30.6757233 ,   0.        ,  41.19465985],\n",
       "       [ 12.        ,  31.06444913,  48.25971405,  31.01612484,\n",
       "         40.80441153,   9.21954446,  31.89043744,  27.01851217,\n",
       "         20.        ,  13.41640786,  41.19465985,   0.        ]])"
      ]
     },
     "execution_count": 11,
     "metadata": {},
     "output_type": "execute_result"
    }
   ],
   "source": [
    "ndc"
   ]
  },
  {
   "cell_type": "code",
   "execution_count": 12,
   "metadata": {},
   "outputs": [
    {
     "data": {
      "text/plain": [
       "array([ 20.61552813,  43.27817002,  17.72004515,  36.61966685,\n",
       "        20.51828453,  19.20937271,  24.69817807,  10.        ,\n",
       "         0.        ,  30.6757233 ,  13.41640786])"
      ]
     },
     "execution_count": 12,
     "metadata": {},
     "output_type": "execute_result"
    }
   ],
   "source": [
    "# the current column\n",
    "cl = lcn\n",
    "# current array\n",
    "# the slice at the end to remove the point column\n",
    "curr = ndc[:,cl][1:]\n",
    "\n",
    "curr"
   ]
  },
  {
   "cell_type": "code",
   "execution_count": 13,
   "metadata": {},
   "outputs": [
    {
     "data": {
      "text/plain": [
       "(7, 10.0, 9)"
      ]
     },
     "execution_count": 13,
     "metadata": {},
     "output_type": "execute_result"
    }
   ],
   "source": [
    "# find the nonzero minimum of the current array\n",
    "minval = np.where( curr == np.min(curr[np.nonzero(curr)]) )\n",
    "lcn, vlu  = minval[0][0], curr[minval].tolist()[0]\n",
    "point_name = np.where( ndist[:,cl] == vlu)[0][0]-1\n",
    "# appending the results of this stage to the results lists\n",
    "res_loc.append(point_name)\n",
    "res_val.append(vlu)\n",
    "lcn, vlu, point_name"
   ]
  },
  {
   "cell_type": "code",
   "execution_count": 14,
   "metadata": {},
   "outputs": [
    {
     "data": {
      "text/plain": [
       "array([[  0.        ,   2.        ,   3.        ,   4.        ,\n",
       "          5.        ,   6.        ,   7.        ,   8.        ,\n",
       "          9.        ,  11.        ,  12.        ],\n",
       "       [  2.        ,   0.        ,  26.57066051,  13.15294644,\n",
       "         22.09072203,  33.73425559,  24.04163056,  18.02775638,\n",
       "         26.17250466,  10.19803903,  31.06444913],\n",
       "       [  3.        ,  26.57066051,   0.        ,  39.56008089,\n",
       "          7.61577311,  45.69463864,  50.59644256,  21.47091055,\n",
       "         51.31276644,  23.02172887,  48.25971405],\n",
       "       [  4.        ,  13.15294644,  39.56008089,   0.        ,\n",
       "         35.22782991,  36.89173349,  11.18033989,  29.12043956,\n",
       "         17.72004515,  19.20937271,  31.01612484],\n",
       "       [  5.        ,  22.09072203,   7.61577311,  35.22782991,\n",
       "          0.        ,  38.07886553,  45.89117562,  13.89244399,\n",
       "         45.17742799,  21.54065923,  40.80441153],\n",
       "       [  6.        ,  33.73425559,  45.69463864,  36.89173349,\n",
       "         38.07886553,   0.        ,  39.69886648,  24.35159132,\n",
       "         28.65309756,  43.28972164,   9.21954446],\n",
       "       [  7.        ,  24.04163056,  50.59644256,  11.18033989,\n",
       "         45.89117562,  39.69886648,   0.        ,  38.11823711,\n",
       "         13.        ,  30.23243292,  31.89043744],\n",
       "       [  8.        ,  18.02775638,  21.47091055,  29.12043956,\n",
       "         13.89244399,  24.35159132,  38.11823711,   0.        ,\n",
       "         34.20526275,  23.85372088,  27.01851217],\n",
       "       [  9.        ,  26.17250466,  51.31276644,  17.72004515,\n",
       "         45.17742799,  28.65309756,  13.        ,  34.20526275,\n",
       "          0.        ,  35.22782991,  20.        ],\n",
       "       [ 11.        ,  10.19803903,  23.02172887,  19.20937271,\n",
       "         21.54065923,  43.28972164,  30.23243292,  23.85372088,\n",
       "         35.22782991,   0.        ,  41.19465985],\n",
       "       [ 12.        ,  31.06444913,  48.25971405,  31.01612484,\n",
       "         40.80441153,   9.21954446,  31.89043744,  27.01851217,\n",
       "         20.        ,  41.19465985,   0.        ]])"
      ]
     },
     "execution_count": 14,
     "metadata": {},
     "output_type": "execute_result"
    }
   ],
   "source": [
    "# deleting the finished column\n",
    "ndc = np.delete(ndc, cl, axis=1)\n",
    "ndc = np.delete(ndc, cl, axis=0)\n",
    "ndc\n",
    "# ndc.shape"
   ]
  },
  {
   "cell_type": "code",
   "execution_count": 15,
   "metadata": {},
   "outputs": [
    {
     "data": {
      "text/plain": [
       "(11, 11)"
      ]
     },
     "execution_count": 15,
     "metadata": {},
     "output_type": "execute_result"
    }
   ],
   "source": [
    "ndc.shape"
   ]
  },
  {
   "cell_type": "code",
   "execution_count": 17,
   "metadata": {},
   "outputs": [
    {
     "name": "stdout",
     "output_type": "stream",
     "text": [
      "1 9 4.123105625617661 10\n",
      "9 7 10.0 9\n",
      "9 0 6.082762530298219 1\n",
      "0 0 1.0 0\n",
      "0 0 1.0 1\n"
     ]
    },
    {
     "ename": "IndexError",
     "evalue": "index 0 is out of bounds for axis 0 with size 0",
     "output_type": "error",
     "traceback": [
      "\u001b[1;31m---------------------------------------------------------------------------\u001b[0m",
      "\u001b[1;31mIndexError\u001b[0m                                Traceback (most recent call last)",
      "\u001b[1;32m<ipython-input-17-83f4038537a2>\u001b[0m in \u001b[0;36m<module>\u001b[1;34m()\u001b[0m\n\u001b[0;32m     55\u001b[0m \u001b[0mrw\u001b[0m \u001b[1;33m=\u001b[0m \u001b[1;36m1\u001b[0m\u001b[1;33m\u001b[0m\u001b[0m\n\u001b[0;32m     56\u001b[0m \u001b[1;32mwhile\u001b[0m \u001b[0mndc\u001b[0m\u001b[1;33m.\u001b[0m\u001b[0mshape\u001b[0m\u001b[1;33m[\u001b[0m\u001b[1;36m0\u001b[0m\u001b[1;33m]\u001b[0m\u001b[1;33m>\u001b[0m\u001b[1;36m2\u001b[0m\u001b[1;33m:\u001b[0m\u001b[1;33m\u001b[0m\u001b[0m\n\u001b[1;32m---> 57\u001b[1;33m     \u001b[0mrw\u001b[0m \u001b[1;33m=\u001b[0m \u001b[0mdo_one_step\u001b[0m\u001b[1;33m(\u001b[0m\u001b[0mrw\u001b[0m\u001b[1;33m,\u001b[0m \u001b[0mndc\u001b[0m\u001b[1;33m)\u001b[0m\u001b[1;33m\u001b[0m\u001b[0m\n\u001b[0m\u001b[0;32m     58\u001b[0m \u001b[1;33m\u001b[0m\u001b[0m\n\u001b[0;32m     59\u001b[0m \u001b[0mres_loc\u001b[0m\u001b[1;33m,\u001b[0m \u001b[0mres_val\u001b[0m\u001b[1;33m\u001b[0m\u001b[0m\n",
      "\u001b[1;32m<ipython-input-17-83f4038537a2>\u001b[0m in \u001b[0;36mdo_one_step\u001b[1;34m(rw, ndc)\u001b[0m\n\u001b[0;32m     41\u001b[0m     \u001b[0mminval\u001b[0m \u001b[1;33m=\u001b[0m \u001b[0mnp\u001b[0m\u001b[1;33m.\u001b[0m\u001b[0mwhere\u001b[0m\u001b[1;33m(\u001b[0m \u001b[0mcurr\u001b[0m \u001b[1;33m==\u001b[0m \u001b[0mnp\u001b[0m\u001b[1;33m.\u001b[0m\u001b[0mmin\u001b[0m\u001b[1;33m(\u001b[0m\u001b[0mcurr\u001b[0m\u001b[1;33m[\u001b[0m\u001b[0mnp\u001b[0m\u001b[1;33m.\u001b[0m\u001b[0mnonzero\u001b[0m\u001b[1;33m(\u001b[0m\u001b[0mcurr\u001b[0m\u001b[1;33m)\u001b[0m\u001b[1;33m]\u001b[0m\u001b[1;33m)\u001b[0m \u001b[1;33m)\u001b[0m\u001b[1;33m\u001b[0m\u001b[0m\n\u001b[0;32m     42\u001b[0m     \u001b[0mlcn\u001b[0m\u001b[1;33m,\u001b[0m \u001b[0mvlu\u001b[0m  \u001b[1;33m=\u001b[0m \u001b[0mminval\u001b[0m\u001b[1;33m[\u001b[0m\u001b[1;36m0\u001b[0m\u001b[1;33m]\u001b[0m\u001b[1;33m[\u001b[0m\u001b[1;36m0\u001b[0m\u001b[1;33m]\u001b[0m\u001b[1;33m,\u001b[0m \u001b[0mcurr\u001b[0m\u001b[1;33m[\u001b[0m\u001b[0mminval\u001b[0m\u001b[1;33m]\u001b[0m\u001b[1;33m.\u001b[0m\u001b[0mtolist\u001b[0m\u001b[1;33m(\u001b[0m\u001b[1;33m)\u001b[0m\u001b[1;33m[\u001b[0m\u001b[1;36m0\u001b[0m\u001b[1;33m]\u001b[0m\u001b[1;33m\u001b[0m\u001b[0m\n\u001b[1;32m---> 43\u001b[1;33m     \u001b[0mpoint_name\u001b[0m \u001b[1;33m=\u001b[0m \u001b[0mnp\u001b[0m\u001b[1;33m.\u001b[0m\u001b[0mwhere\u001b[0m\u001b[1;33m(\u001b[0m \u001b[0mndist\u001b[0m\u001b[1;33m[\u001b[0m\u001b[1;33m:\u001b[0m\u001b[1;33m,\u001b[0m\u001b[0mcl\u001b[0m\u001b[1;33m]\u001b[0m \u001b[1;33m==\u001b[0m \u001b[0mvlu\u001b[0m\u001b[1;33m)\u001b[0m\u001b[1;33m[\u001b[0m\u001b[1;36m0\u001b[0m\u001b[1;33m]\u001b[0m\u001b[1;33m[\u001b[0m\u001b[1;36m0\u001b[0m\u001b[1;33m]\u001b[0m\u001b[1;33m-\u001b[0m\u001b[1;36m1\u001b[0m\u001b[1;33m\u001b[0m\u001b[0m\n\u001b[0m\u001b[0;32m     44\u001b[0m     \u001b[0mprint\u001b[0m\u001b[1;33m(\u001b[0m\u001b[0mcl\u001b[0m\u001b[1;33m,\u001b[0m \u001b[0mlcn\u001b[0m\u001b[1;33m,\u001b[0m \u001b[0mvlu\u001b[0m\u001b[1;33m,\u001b[0m \u001b[0mpoint_name\u001b[0m\u001b[1;33m)\u001b[0m\u001b[1;33m\u001b[0m\u001b[0m\n\u001b[0;32m     45\u001b[0m     \u001b[1;31m# appending the results of this stage to the results lists\u001b[0m\u001b[1;33m\u001b[0m\u001b[1;33m\u001b[0m\u001b[0m\n",
      "\u001b[1;31mIndexError\u001b[0m: index 0 is out of bounds for axis 0 with size 0"
     ]
    }
   ],
   "source": [
    "# Combining all above\n",
    "\n",
    "# Preparation\n",
    "# Results array\n",
    "res_loc = []\n",
    "res_val = []\n",
    "# a copy of ndist\n",
    "ndc = ndist.copy()\n",
    "# current row (the starting row)\n",
    "def do_one_step(rw, ndc):\n",
    "        # current array\n",
    "    # the slice at the end to remove the point column\n",
    "    curr = ndc[rw][1:]\n",
    "    # adding the starting point\n",
    "    res_loc.append(ndc[rw][0])\n",
    "    # res_loc, res_val, curr\n",
    "\n",
    "    # find the nonzero minimum of the current array\n",
    "    minval = np.where( curr == np.min(curr[np.nonzero(curr)]) )\n",
    "    lcn, vlu  = minval[0][0], curr[minval].tolist()[0]\n",
    "    point_name = np.where( ndist[rw] == vlu)[0][0]\n",
    "    print(rw, lcn, vlu, point_name)\n",
    "    # appending the results of this stage to the results lists\n",
    "    res_loc.append(point_name)\n",
    "    res_val.append(vlu)\n",
    "    # lcn, vlu, point_name\n",
    "    # deleting the initial row after finding the next column\n",
    "    ndc = np.delete(ndc, rw, axis=0)\n",
    "    ndc = np.delete(ndc, rw, axis=1)\n",
    "    display(ndc)\n",
    "    ndc.shape\n",
    "    # the current column\n",
    "    cl = lcn\n",
    "    # current array\n",
    "    # the slice at the end to remove the point column\n",
    "    curr = ndc[:,cl][1:]\n",
    "\n",
    "    # curr.\n",
    "\n",
    "    # find the nonzero minimum of the current array\n",
    "    minval = np.where( curr == np.min(curr[np.nonzero(curr)]) )\n",
    "    lcn, vlu  = minval[0][0], curr[minval].tolist()[0]\n",
    "    point_name = np.where( ndist[:,cl] == vlu)[0][0]-1\n",
    "    print(cl, lcn, vlu, point_name)\n",
    "    # appending the results of this stage to the results lists\n",
    "    res_loc.append(point_name)\n",
    "    res_val.append(vlu)\n",
    "    # lcn, vlu, point_name\n",
    "    # deleting the finished column\n",
    "    ndc = np.delete(ndc, cl, axis=1)\n",
    "    ndc = np.delete(ndc, cl, axis=0)\n",
    "    \n",
    "    return point_name\n",
    "\n",
    "rw = 1\n",
    "while ndc.shape[0]>2:\n",
    "    rw = do_one_step(rw, ndc)\n",
    "    \n",
    "res_loc, res_val\n",
    "\n"
   ]
  },
  {
   "cell_type": "code",
   "execution_count": null,
   "metadata": {},
   "outputs": [],
   "source": []
  }
 ],
 "metadata": {
  "kernelspec": {
   "display_name": "Python 3",
   "language": "python",
   "name": "python3"
  },
  "language_info": {
   "codemirror_mode": {
    "name": "ipython",
    "version": 3
   },
   "file_extension": ".py",
   "mimetype": "text/x-python",
   "name": "python",
   "nbconvert_exporter": "python",
   "pygments_lexer": "ipython3",
   "version": "3.6.5"
  }
 },
 "nbformat": 4,
 "nbformat_minor": 2
}
