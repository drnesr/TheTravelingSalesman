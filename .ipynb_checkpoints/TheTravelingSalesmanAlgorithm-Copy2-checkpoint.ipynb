{
 "cells": [
  {
   "cell_type": "code",
   "execution_count": 1,
   "metadata": {},
   "outputs": [],
   "source": [
    "import numpy as np\n",
    "import pandas as pd"
   ]
  },
  {
   "cell_type": "code",
   "execution_count": 2,
   "metadata": {},
   "outputs": [],
   "source": [
    "# creating the test array\n",
    "r=[[13, 16], [25, 36], [50, 45], [12, 34], [47, 38], [32, 3], \n",
    "   [2, 29], [40, 26], [7, 17], [17, 17], [27, 46], [23, 5] ]"
   ]
  },
  {
   "cell_type": "code",
   "execution_count": 3,
   "metadata": {},
   "outputs": [],
   "source": [
    "# defining distance function\n",
    "def distance(x1, y1, x2, y2):\n",
    "    return np.sqrt((x1-x2)**2+(y1-y2)**2)"
   ]
  },
  {
   "cell_type": "code",
   "execution_count": 4,
   "metadata": {},
   "outputs": [],
   "source": [
    "# Creating the distance array\n",
    "# with row 0 and col 0 contains the point's number\n",
    "dist=[[i for i in range(len(r)+1)]for j in range (len(r)+1)]\n",
    "for i in range(len(r)):\n",
    "    dist[i+1][0]=i+1\n",
    "    for j in range(len(r)):\n",
    "#         dist[i+1][j+1]=7.5\n",
    "        dist[i+1][j+1]=distance(r[i][0], r[i][1], r[j][0], r[j][1])\n",
    "\n",
    "# dist\n",
    "ndist=np.array(dist)\n",
    "# ndist"
   ]
  },
  {
   "cell_type": "code",
   "execution_count": 5,
   "metadata": {},
   "outputs": [],
   "source": [
    "# Results array\n",
    "res_loc = []\n",
    "res_val = []"
   ]
  },
  {
   "cell_type": "code",
   "execution_count": 6,
   "metadata": {},
   "outputs": [],
   "source": [
    "# a copy of ndist\n",
    "ndc = ndist.copy()"
   ]
  },
  {
   "cell_type": "code",
   "execution_count": 7,
   "metadata": {},
   "outputs": [
    {
     "data": {
      "text/plain": [
       "(1, 1)"
      ]
     },
     "execution_count": 7,
     "metadata": {},
     "output_type": "execute_result"
    }
   ],
   "source": [
    "def get_row_num(array, val):\n",
    "    return np.where( array[:,0] == val)[0][0]\n",
    "\n",
    "def get_col_num(array, val):\n",
    "    return np.where( array[0] == val)[0][0]\n",
    "\n",
    "\n",
    "get_row_num(ndist, 1), get_col_num(ndist, 1)"
   ]
  },
  {
   "cell_type": "code",
   "execution_count": 43,
   "metadata": {},
   "outputs": [
    {
     "data": {
      "text/plain": [
       "(8,\n",
       " [1.0, 10, 10.0, 0.0, 9.0, 9.0],\n",
       " [4.123105625617661, 4.123105625617661, 10.0, 10.0],\n",
       " array([ 26.17250466,  51.31276644,  17.72004515,  45.17742799,\n",
       "         28.65309756,  13.        ,  34.20526275,   0.        ,\n",
       "         35.22782991,  20.        ]))"
      ]
     },
     "execution_count": 43,
     "metadata": {},
     "output_type": "execute_result"
    }
   ],
   "source": [
    "# current row (the starting row)\n",
    "# rw = 1\n",
    "rw = point_name\n",
    "rw = get_row_num(ndc, rw)\n",
    "# current array\n",
    "# the slice at the end to remove the point column\n",
    "curr = ndc[rw][1:]\n",
    "\n",
    "# adding the starting point\n",
    "res_loc.append(ndc[rw][0])\n",
    "rw, res_loc, res_val, curr"
   ]
  },
  {
   "cell_type": "code",
   "execution_count": 48,
   "metadata": {},
   "outputs": [
    {
     "data": {
      "text/plain": [
       "(8, 5, 13.0, 7.0)"
      ]
     },
     "execution_count": 48,
     "metadata": {},
     "output_type": "execute_result"
    }
   ],
   "source": [
    "# find the nonzero minimum of the current array\n",
    "# minval = np.where( curr == np.min(curr[np.nonzero(curr)]) )\n",
    "# lcn, vlu  = minval[0][0], curr[minval].tolist()[0]\n",
    "# print(lcn, vlu)\n",
    "# point_name = ndist[0, np.where( ndc[rw] == vlu)[0][0]]\n",
    "\n",
    "vlu = np.min(curr[np.nonzero(curr)])\n",
    "lcn = np.where(curr == vlu)[0][0]\n",
    "point_name = ndc[0,lcn+1]\n",
    "\n",
    "# appending the results of this stage to the results lists\n",
    "res_loc.append(point_name)\n",
    "res_val.append(vlu)\n",
    "rw, lcn, vlu, point_name"
   ]
  },
  {
   "cell_type": "code",
   "execution_count": 47,
   "metadata": {},
   "outputs": [
    {
     "data": {
      "text/plain": [
       "(8, 5, 13.0, 7.0)"
      ]
     },
     "execution_count": 47,
     "metadata": {},
     "output_type": "execute_result"
    }
   ],
   "source": [
    "# # rw, get_row_num(ndc,rw), np.where( ndc[get_row_num(ndc,rw)] == vlu)\n",
    "# # rw, vlu, ndc[rw], np.where( ndc[rw][1:] == vlu)\n",
    "# # np.where( ndist[rw] == vlu)[0][0], np.where( ndc[rw] == vlu)[0][0]\n",
    "# vlu = np.min(curr[np.nonzero(curr)])\n",
    "# lcn = np.where(curr == vlu)[0][0]\n",
    "# point_name = ndc[0,lcn+1]\n",
    "# rw, lcn, vlu, point_name"
   ]
  },
  {
   "cell_type": "code",
   "execution_count": 49,
   "metadata": {},
   "outputs": [
    {
     "data": {
      "text/plain": [
       "(10, 10)"
      ]
     },
     "execution_count": 49,
     "metadata": {},
     "output_type": "execute_result"
    }
   ],
   "source": [
    "# deleting the initial row after finding the next column\n",
    "ndc = np.delete(ndc, rw, axis=0)\n",
    "ndc = np.delete(ndc, rw, axis=1)\n",
    "ndc\n",
    "ndc.shape"
   ]
  },
  {
   "cell_type": "code",
   "execution_count": null,
   "metadata": {},
   "outputs": [],
   "source": [
    "ndc"
   ]
  },
  {
   "cell_type": "code",
   "execution_count": 50,
   "metadata": {},
   "outputs": [
    {
     "data": {
      "text/plain": [
       "6"
      ]
     },
     "execution_count": 50,
     "metadata": {},
     "output_type": "execute_result"
    }
   ],
   "source": [
    "get_col_num(ndc, point_name)"
   ]
  },
  {
   "cell_type": "code",
   "execution_count": 51,
   "metadata": {},
   "outputs": [
    {
     "data": {
      "text/plain": [
       "array([ 24.04163056,  50.59644256,  11.18033989,  45.89117562,\n",
       "        39.69886648,   0.        ,  38.11823711,  30.23243292,  31.89043744])"
      ]
     },
     "execution_count": 51,
     "metadata": {},
     "output_type": "execute_result"
    }
   ],
   "source": [
    "# the current column\n",
    "cl = get_col_num(ndc, point_name)\n",
    "# current array\n",
    "# the slice at the end to remove the point column\n",
    "curr = ndc[:,cl][1:]\n",
    "\n",
    "curr"
   ]
  },
  {
   "cell_type": "code",
   "execution_count": 52,
   "metadata": {},
   "outputs": [
    {
     "data": {
      "text/plain": [
       "(6, 2, 11.180339887498949, 4.0)"
      ]
     },
     "execution_count": 52,
     "metadata": {},
     "output_type": "execute_result"
    }
   ],
   "source": [
    "# find the nonzero minimum of the current array\n",
    "# vlu = np.min(curr[np.nonzero(curr)])\n",
    "# lcn = np.where(curr == vlu)[0][0]\n",
    "# # minval = np.where( curr == np.min(curr[np.nonzero(curr)]) )\n",
    "# # lcn, vlu  = minval[0][0], curr[minval].tolist()[0]\n",
    "# point_name = ndist[np.where( ndc[:,cl] == vlu)[0][0], 0]\n",
    "vlu = np.min(curr[np.nonzero(curr)])\n",
    "lcn = np.where(curr == vlu)[0][0]\n",
    "point_name = ndc[0,lcn+1]\n",
    "# appending the results of this stage to the results lists\n",
    "res_loc.append(point_name)\n",
    "res_val.append(vlu)\n",
    "cl, lcn, vlu, point_name"
   ]
  },
  {
   "cell_type": "code",
   "execution_count": 53,
   "metadata": {},
   "outputs": [
    {
     "data": {
      "text/plain": [
       "array([[  0.        ,   2.        ,   3.        ,   4.        ,\n",
       "          5.        ,   6.        ,   8.        ,  11.        ,  12.        ],\n",
       "       [  2.        ,   0.        ,  26.57066051,  13.15294644,\n",
       "         22.09072203,  33.73425559,  18.02775638,  10.19803903,\n",
       "         31.06444913],\n",
       "       [  3.        ,  26.57066051,   0.        ,  39.56008089,\n",
       "          7.61577311,  45.69463864,  21.47091055,  23.02172887,\n",
       "         48.25971405],\n",
       "       [  4.        ,  13.15294644,  39.56008089,   0.        ,\n",
       "         35.22782991,  36.89173349,  29.12043956,  19.20937271,\n",
       "         31.01612484],\n",
       "       [  5.        ,  22.09072203,   7.61577311,  35.22782991,\n",
       "          0.        ,  38.07886553,  13.89244399,  21.54065923,\n",
       "         40.80441153],\n",
       "       [  6.        ,  33.73425559,  45.69463864,  36.89173349,\n",
       "         38.07886553,   0.        ,  24.35159132,  43.28972164,\n",
       "          9.21954446],\n",
       "       [  8.        ,  18.02775638,  21.47091055,  29.12043956,\n",
       "         13.89244399,  24.35159132,   0.        ,  23.85372088,\n",
       "         27.01851217],\n",
       "       [ 11.        ,  10.19803903,  23.02172887,  19.20937271,\n",
       "         21.54065923,  43.28972164,  23.85372088,   0.        ,\n",
       "         41.19465985],\n",
       "       [ 12.        ,  31.06444913,  48.25971405,  31.01612484,\n",
       "         40.80441153,   9.21954446,  27.01851217,  41.19465985,   0.        ]])"
      ]
     },
     "execution_count": 53,
     "metadata": {},
     "output_type": "execute_result"
    }
   ],
   "source": [
    "# deleting the finished column\n",
    "ndc = np.delete(ndc, cl, axis=1)\n",
    "ndc = np.delete(ndc, cl, axis=0)\n",
    "ndc\n",
    "# ndc.shape"
   ]
  },
  {
   "cell_type": "code",
   "execution_count": 42,
   "metadata": {},
   "outputs": [
    {
     "data": {
      "text/plain": [
       "(11, 11)"
      ]
     },
     "execution_count": 42,
     "metadata": {},
     "output_type": "execute_result"
    }
   ],
   "source": [
    "ndc.shape"
   ]
  },
  {
   "cell_type": "code",
   "execution_count": null,
   "metadata": {},
   "outputs": [],
   "source": [
    "# Combining all above\n",
    "\n",
    "# Preparation\n",
    "# Results array\n",
    "res_loc = []\n",
    "res_val = []\n",
    "# a copy of ndist\n",
    "ndc = ndist.copy()\n",
    "# current row (the starting row)\n",
    "def do_one_step(rw, ndc):\n",
    "        # current array\n",
    "    # the slice at the end to remove the point column\n",
    "    curr = ndc[rw][1:]\n",
    "    # adding the starting point\n",
    "    res_loc.append(ndc[rw][0])\n",
    "    # res_loc, res_val, curr\n",
    "\n",
    "    # find the nonzero minimum of the current array\n",
    "    minval = np.where( curr == np.min(curr[np.nonzero(curr)]) )\n",
    "    lcn, vlu  = minval[0][0], curr[minval].tolist()[0]\n",
    "    point_name = np.where( ndist[rw] == vlu)[0][0]\n",
    "    print(rw, lcn, vlu, point_name)\n",
    "    # appending the results of this stage to the results lists\n",
    "    res_loc.append(point_name)\n",
    "    res_val.append(vlu)\n",
    "    # lcn, vlu, point_name\n",
    "    # deleting the initial row after finding the next column\n",
    "    ndc = np.delete(ndc, rw, axis=0)\n",
    "    ndc = np.delete(ndc, rw, axis=1)\n",
    "    display(ndc)\n",
    "    ndc.shape\n",
    "    # the current column\n",
    "    cl = lcn\n",
    "    # current array\n",
    "    # the slice at the end to remove the point column\n",
    "    curr = ndc[:,cl][1:]\n",
    "\n",
    "    # curr.\n",
    "\n",
    "    # find the nonzero minimum of the current array\n",
    "    minval = np.where( curr == np.min(curr[np.nonzero(curr)]) )\n",
    "    lcn, vlu  = minval[0][0], curr[minval].tolist()[0]\n",
    "    point_name = np.where( ndist[:,cl] == vlu)[0][0]-1\n",
    "    print(cl, lcn, vlu, point_name)\n",
    "    # appending the results of this stage to the results lists\n",
    "    res_loc.append(point_name)\n",
    "    res_val.append(vlu)\n",
    "    # lcn, vlu, point_name\n",
    "    # deleting the finished column\n",
    "    ndc = np.delete(ndc, cl, axis=1)\n",
    "    ndc = np.delete(ndc, cl, axis=0)\n",
    "    \n",
    "    return point_name\n",
    "\n",
    "rw = 1\n",
    "while ndc.shape[0]>2:\n",
    "    rw = do_one_step(rw, ndc)\n",
    "    \n",
    "res_loc, res_val\n",
    "\n"
   ]
  },
  {
   "cell_type": "code",
   "execution_count": null,
   "metadata": {},
   "outputs": [],
   "source": []
  }
 ],
 "metadata": {
  "kernelspec": {
   "display_name": "Python 3",
   "language": "python",
   "name": "python3"
  },
  "language_info": {
   "codemirror_mode": {
    "name": "ipython",
    "version": 3
   },
   "file_extension": ".py",
   "mimetype": "text/x-python",
   "name": "python",
   "nbconvert_exporter": "python",
   "pygments_lexer": "ipython3",
   "version": "3.6.5"
  }
 },
 "nbformat": 4,
 "nbformat_minor": 2
}
